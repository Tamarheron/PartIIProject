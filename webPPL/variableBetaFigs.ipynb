{
 "cells": [
  {
   "cell_type": "code",
   "execution_count": 73,
   "metadata": {
    "collapsed": true
   },
   "outputs": [],
   "source": [
    "%matplotlib inline\n",
    "import seaborn as sns\n",
    "import matplotlib.pyplot as plt\n",
    "import numpy as np\n",
    "import pandas as pd"
   ]
  },
  {
   "cell_type": "code",
   "execution_count": 124,
   "metadata": {
    "collapsed": false
   },
   "outputs": [],
   "source": [
    "specific_MDP_100_200_300=[ [ 'len', 'human', 'fixed', 'variable' ],\n",
    "  [ 1 ],\n",
    "  [ 2 ],\n",
    "  [ 3 ],\n",
    "  [ 4 ],\n",
    "  [ 5,\n",
    "    [ 36.589999999999996 ],\n",
    "    [ 33.08 ],\n",
    "    [ 33.71 ],\n",
    "    [ 36.77 ],\n",
    "    [ 32.36 ],\n",
    "    [ 35.6 ],\n",
    "    [ 36.410000000000004 ],\n",
    "    [ 33.47 ],\n",
    "    [ 34.28 ] ],\n",
    "  [ 6 ],\n",
    "  [ 7 ],\n",
    "  [ 8,\n",
    "    [ 60.02 ],\n",
    "    [ 60.919999999999995 ],\n",
    "    [ 57.05 ],\n",
    "    [ 59.39 ],\n",
    "    [ 57.815 ],\n",
    "    [ 60.24499999999999 ],\n",
    "    [ 60.02 ],\n",
    "    [ 54.949999999999996 ],\n",
    "    [ 59.78000000000001 ] ],\n",
    "  [ 9 ],\n",
    "  [ 10,\n",
    "    [ 75.97 ],\n",
    "    [ 73.17999999999998 ],\n",
    "    [ 76.32999999999998 ],\n",
    "    [ 74.44 ],\n",
    "    [ 74.39499999999998 ],\n",
    "    [ 80.78500000000001 ],\n",
    "    [ 74.44 ],\n",
    "    [ 71.41 ],\n",
    "    [ 79.36 ] ],\n",
    "  [ 11 ],\n",
    "  [ 12 ],\n",
    "  [ 13 ],\n",
    "  [ 14 ],\n",
    "  [ 15 ],\n",
    "  [ 16 ],\n",
    "  [ 17 ],\n",
    "  [ 18 ],\n",
    "  [ 19 ],\n",
    "  [ 20 ],\n",
    "  [ 21 ],\n",
    "  [ 22 ],\n",
    "  [ 23 ],\n",
    "  [ 24 ],\n",
    "  [ 25 ] ]\n",
    "\n",
    "danger_MDP_100_200_300 = [ [ 'len', 'human', 'fixed', 'variable' ],\n",
    "  [ 1 ],\n",
    "  [ 2 ],\n",
    "  [ 3 ],\n",
    "  [ 4 ],\n",
    "  [ 5,\n",
    "    5.279999999999999,\n",
    "    1.1499999999999992,\n",
    "    2.0499999999999985,\n",
    "    4.689999999999999,\n",
    "    2.0049999999999994,\n",
    "    2.4199999999999995,\n",
    "    4.63,\n",
    "    2.429999999999999,\n",
    "    2.9299999999999993 ],\n",
    "  [ 6 ],\n",
    "  [ 7 ],\n",
    "  [ 8,\n",
    "    7.08,\n",
    "    5.31,\n",
    "    2.949999999999999,\n",
    "    7.9399999999999995,\n",
    "    4.869999999999999,\n",
    "    5.669999999999997,\n",
    "    7.1000000000000005,\n",
    "    4.359999999999998,\n",
    "    6.230000000000001 ],\n",
    "  [ 9 ],\n",
    "  [ 10,\n",
    "    8.02,\n",
    "    5.309999999999998,\n",
    "    7.7600000000000025,\n",
    "    8.319999999999999,\n",
    "    5.015,\n",
    "    9.614999999999998,\n",
    "    8.649999999999999,\n",
    "    5.5433333333333294,\n",
    "    8.943333333333333 ],\n",
    "  [ 11 ],\n",
    "  [ 12 ],\n",
    "  [ 13 ],\n",
    "  [ 14 ],\n",
    "  [ 15,\n",
    "    12.069999999999995,\n",
    "    5.6999999999999975,\n",
    "    14.570000000000002,\n",
    "    11.860000000000001,\n",
    "    13.294999999999996,\n",
    "    17.8,\n",
    "    12.989999999999998,\n",
    "    7.1433333333333335,\n",
    "    15.453333333333331,\n",
    "    11.24,\n",
    "    10.789999999999997,\n",
    "    18.560000000000002,\n",
    "    11.040000000000003,\n",
    "    10.119999999999997,\n",
    "    17.299999999999997 ],\n",
    "  [ 16 ],\n",
    "  [ 17 ],\n",
    "  [ 18 ],\n",
    "  [ 19 ],\n",
    "  [ 20,\n",
    "    15.14,\n",
    "    11.749999999999998,\n",
    "    26.72,\n",
    "    16.760000000000005,\n",
    "    17.36,\n",
    "    27.380000000000003,\n",
    "    15.3,\n",
    "    16.40666666666667,\n",
    "    27.346666666666668,\n",
    "    15.6,\n",
    "    14.129999999999999,\n",
    "    24.57,\n",
    "    15.980000000000002,\n",
    "    15.120000000000001,\n",
    "    28.125 ],\n",
    "  [ 21 ],\n",
    "  [ 22 ],\n",
    "  [ 23 ],\n",
    "  [ 24 ],\n",
    "  [ 25, \n",
    "    18.830000000000002,\n",
    "    21.64999999999999,\n",
    "    38.41,\n",
    "    19.179999999999996,\n",
    "    24.324999999999996,\n",
    "    37.74,\n",
    "    19.550000000000004,\n",
    "    25.369999999999997,\n",
    "    37.440000000000005,\n",
    "    19.580000000000002,\n",
    "    17.98,\n",
    "    38.43,\n",
    "    18.830000000000002,\n",
    "    25.419999999999995,\n",
    "    38.955 ] ]"
   ]
  },
  {
   "cell_type": "code",
   "execution_count": 102,
   "metadata": {
    "collapsed": false
   },
   "outputs": [
    {
     "name": "stdout",
     "output_type": "stream",
     "text": [
      "[[  5.           5.28         1.15         2.05         4.69         2.005\n",
      "    2.42         4.63         2.43         2.93      ]\n",
      " [  8.           7.08         5.31         2.95         7.94         4.87\n",
      "    5.67         7.1          4.36         6.23      ]\n",
      " [ 10.           8.02         5.31         7.76         8.32         5.015\n",
      "    9.615        8.65         5.54333333   8.94333333]]\n",
      " \n",
      "[  5.   8.  10.]\n",
      "[[ 5.28        1.15        2.05        4.69        2.005       2.42        4.63\n",
      "   2.43        2.93      ]\n",
      " [ 7.08        5.31        2.95        7.94        4.87        5.67        7.1\n",
      "   4.36        6.23      ]\n",
      " [ 8.02        5.31        7.76        8.32        5.015       9.615       8.65\n",
      "   5.54333333  8.94333333]]\n",
      "[[ 5.28  1.15  2.05]\n",
      " [ 7.08  5.31  2.95]\n",
      " [ 8.02  5.31  7.76]]\n",
      "[[ 4.69   2.005  2.42 ]\n",
      " [ 7.94   4.87   5.67 ]\n",
      " [ 8.32   5.015  9.615]]\n",
      "[[ 4.63        2.43        2.93      ]\n",
      " [ 7.1         4.36        6.23      ]\n",
      " [ 8.65        5.54333333  8.94333333]]\n",
      "[ 5.28  7.08  8.02]\n"
     ]
    }
   ],
   "source": [
    "weights=[1,2,3,1,2,3]\n",
    "danger = np.array([danger_MDP_100_200_300[5],danger_MDP_100_200_300[8],danger_MDP_100_200_300[10]])\n",
    "print(danger)\n",
    "print(\" \")\n",
    "xs=danger[:,0]\n",
    "ys=danger[:,1:]\n",
    "human=ys[:,[0,3,6]]\n",
    "n_100_fixed=n_100[:,1]\n",
    "n_100_variable=n_100[:,2]\n",
    "n_200_human=n_200[:,0]\n",
    "n_200_fixed=n_200[:,1]\n",
    "n_200_variable=n_200[:,2]\n",
    "n_300_human=n_300[:,0]\n",
    "n_300_fixed=n_300[:,1]\n",
    "n_300_variable=n_300[:,2]\n",
    "print(xs)\n",
    "print(ys)\n",
    "print(human)"
   ]
  },
  {
   "cell_type": "code",
   "execution_count": 121,
   "metadata": {
    "collapsed": false
   },
   "outputs": [
    {
     "data": {
      "image/png": "[encoded data removed]",
      "text/plain": [
       "<matplotlib.figure.Figure at 0x109c16710>"
      ]
     },
     "metadata": {},
     "output_type": "display_data"
    }
   ],
   "source": [
    "width = 0.15       # the width of the bars\n",
    "\n",
    "fig, ax = plt.subplots()\n",
    "human=ax.bar(xs-width*5,n_100_human,width,color='lightgray')\n",
    "fixed=ax.bar(xs-width*1.5,n_100_fixed,width, color='lightsteelblue')\n",
    "variable=ax.bar(xs+width*2,n_100_variable,width,color='paleturquoise')\n",
    "\n",
    "human=ax.bar(xs-width*4,n_200_human,width,color='grey')\n",
    "fixed=ax.bar(xs-width*.5,n_200_fixed,width, color='steelblue')\n",
    "variable=ax.bar(xs+width*3,n_200_variable,width,color='darkturquoise')\n",
    "\n",
    "human=ax.bar(xs-width*3,n_300_human,width,color='k')\n",
    "fixed=ax.bar(xs+width*.5,n_300_fixed,width, color='b')\n",
    "variable=ax.bar(xs+width*4,n_300_variable,width,color='c')"
   ]
  },
  {
   "cell_type": "raw",
   "metadata": {},
   "source": []
  },
  {
   "cell_type": "code",
   "execution_count": 98,
   "metadata": {
    "collapsed": false
   },
   "outputs": [
    {
     "data": {
      "image/png": "[encoded data removed]",
      "text/plain": [
       "<matplotlib.figure.Figure at 0x109916668>"
      ]
     },
     "metadata": {},
     "output_type": "display_data"
    }
   ],
   "source": [
    "fig, ax = plt.subplots()\n"
   ]
  },
  {
   "cell_type": "code",
   "execution_count": 26,
   "metadata": {
    "collapsed": false
   },
   "outputs": [
    {
     "ename": "TypeError",
     "evalue": "ufunc 'isnan' not supported for the input types, and the inputs could not be safely coerced to any supported types according to the casting rule ''safe''",
     "output_type": "error",
     "traceback": [
      "\u001b[0;31m---------------------------------------------------------------------------\u001b[0m",
      "\u001b[0;31mTypeError\u001b[0m                                 Traceback (most recent call last)",
      "\u001b[0;32m<ipython-input-26-45b5c2da9148>\u001b[0m in \u001b[0;36m<module>\u001b[0;34m()\u001b[0m\n\u001b[0;32m----> 1\u001b[0;31m \u001b[0msns\u001b[0m\u001b[0;34m.\u001b[0m\u001b[0mheatmap\u001b[0m\u001b[0;34m(\u001b[0m\u001b[0mdanger_MDP_100_200_300\u001b[0m\u001b[0;34m[\u001b[0m\u001b[0;34m[\u001b[0m\u001b[0;36m5\u001b[0m\u001b[0;34m,\u001b[0m\u001b[0;36m8\u001b[0m\u001b[0;34m,\u001b[0m\u001b[0;36m10\u001b[0m\u001b[0;34m]\u001b[0m\u001b[0;34m,\u001b[0m\u001b[0;34m]\u001b[0m\u001b[0;34m)\u001b[0m\u001b[0;34m\u001b[0m\u001b[0m\n\u001b[0m",
      "\u001b[0;32m/Users/beth/.virtualenvs/zoopy3/lib/python3.5/site-packages/seaborn/matrix.py\u001b[0m in \u001b[0;36mheatmap\u001b[0;34m(data, vmin, vmax, cmap, center, robust, annot, fmt, annot_kws, linewidths, linecolor, cbar, cbar_kws, cbar_ax, square, xticklabels, yticklabels, mask, ax, **kwargs)\u001b[0m\n\u001b[1;32m    515\u001b[0m     plotter = _HeatMapper(data, vmin, vmax, cmap, center, robust, annot, fmt,\n\u001b[1;32m    516\u001b[0m                           \u001b[0mannot_kws\u001b[0m\u001b[0;34m,\u001b[0m \u001b[0mcbar\u001b[0m\u001b[0;34m,\u001b[0m \u001b[0mcbar_kws\u001b[0m\u001b[0;34m,\u001b[0m \u001b[0mxticklabels\u001b[0m\u001b[0;34m,\u001b[0m\u001b[0;34m\u001b[0m\u001b[0m\n\u001b[0;32m--> 517\u001b[0;31m                           yticklabels, mask)\n\u001b[0m\u001b[1;32m    518\u001b[0m \u001b[0;34m\u001b[0m\u001b[0m\n\u001b[1;32m    519\u001b[0m     \u001b[0;31m# Add the pcolormesh kwargs here\u001b[0m\u001b[0;34m\u001b[0m\u001b[0;34m\u001b[0m\u001b[0m\n",
      "\u001b[0;32m/Users/beth/.virtualenvs/zoopy3/lib/python3.5/site-packages/seaborn/matrix.py\u001b[0m in \u001b[0;36m__init__\u001b[0;34m(self, data, vmin, vmax, cmap, center, robust, annot, fmt, annot_kws, cbar, cbar_kws, xticklabels, yticklabels, mask)\u001b[0m\n\u001b[1;32m    166\u001b[0m         \u001b[0;31m# Determine good default values for the colormapping\u001b[0m\u001b[0;34m\u001b[0m\u001b[0;34m\u001b[0m\u001b[0m\n\u001b[1;32m    167\u001b[0m         self._determine_cmap_params(plot_data, vmin, vmax,\n\u001b[0;32m--> 168\u001b[0;31m                                     cmap, center, robust)\n\u001b[0m\u001b[1;32m    169\u001b[0m \u001b[0;34m\u001b[0m\u001b[0m\n\u001b[1;32m    170\u001b[0m         \u001b[0;31m# Sort out the annotations\u001b[0m\u001b[0;34m\u001b[0m\u001b[0;34m\u001b[0m\u001b[0m\n",
      "\u001b[0;32m/Users/beth/.virtualenvs/zoopy3/lib/python3.5/site-packages/seaborn/matrix.py\u001b[0m in \u001b[0;36m_determine_cmap_params\u001b[0;34m(self, plot_data, vmin, vmax, cmap, center, robust)\u001b[0m\n\u001b[1;32m    203\u001b[0m                                cmap, center, robust):\n\u001b[1;32m    204\u001b[0m         \u001b[0;34m\"\"\"Use some heuristics to set good defaults for colorbar and range.\"\"\"\u001b[0m\u001b[0;34m\u001b[0m\u001b[0m\n\u001b[0;32m--> 205\u001b[0;31m         \u001b[0mcalc_data\u001b[0m \u001b[0;34m=\u001b[0m \u001b[0mplot_data\u001b[0m\u001b[0;34m.\u001b[0m\u001b[0mdata\u001b[0m\u001b[0;34m[\u001b[0m\u001b[0;34m~\u001b[0m\u001b[0mnp\u001b[0m\u001b[0;34m.\u001b[0m\u001b[0misnan\u001b[0m\u001b[0;34m(\u001b[0m\u001b[0mplot_data\u001b[0m\u001b[0;34m.\u001b[0m\u001b[0mdata\u001b[0m\u001b[0;34m)\u001b[0m\u001b[0;34m]\u001b[0m\u001b[0;34m\u001b[0m\u001b[0m\n\u001b[0m\u001b[1;32m    206\u001b[0m         \u001b[0;32mif\u001b[0m \u001b[0mvmin\u001b[0m \u001b[0;32mis\u001b[0m \u001b[0;32mNone\u001b[0m\u001b[0;34m:\u001b[0m\u001b[0;34m\u001b[0m\u001b[0m\n\u001b[1;32m    207\u001b[0m             \u001b[0mvmin\u001b[0m \u001b[0;34m=\u001b[0m \u001b[0mnp\u001b[0m\u001b[0;34m.\u001b[0m\u001b[0mpercentile\u001b[0m\u001b[0;34m(\u001b[0m\u001b[0mcalc_data\u001b[0m\u001b[0;34m,\u001b[0m \u001b[0;36m2\u001b[0m\u001b[0;34m)\u001b[0m \u001b[0;32mif\u001b[0m \u001b[0mrobust\u001b[0m \u001b[0;32melse\u001b[0m \u001b[0mcalc_data\u001b[0m\u001b[0;34m.\u001b[0m\u001b[0mmin\u001b[0m\u001b[0;34m(\u001b[0m\u001b[0;34m)\u001b[0m\u001b[0;34m\u001b[0m\u001b[0m\n",
      "\u001b[0;31mTypeError\u001b[0m: ufunc 'isnan' not supported for the input types, and the inputs could not be safely coerced to any supported types according to the casting rule ''safe''"
     ]
    }
   ],
   "source": [
    "sns.heatmap(danger_MDP_100_200_300[[5,8,10],])"
   ]
  },
  {
   "cell_type": "code",
   "execution_count": null,
   "metadata": {
    "collapsed": true
   },
   "outputs": [],
   "source": []
  }
 ],
 "metadata": {
  "kernelspec": {
   "display_name": "Python 3",
   "language": "python",
   "name": "python3"
  },
  "language_info": {
   "codemirror_mode": {
    "name": "ipython",
    "version": 3
   },
   "file_extension": ".py",
   "mimetype": "text/x-python",
   "name": "python",
   "nbconvert_exporter": "python",
   "pygments_lexer": "ipython3",
   "version": "3.5.2"
  }
 },
 "nbformat": 4,
 "nbformat_minor": 1
}
